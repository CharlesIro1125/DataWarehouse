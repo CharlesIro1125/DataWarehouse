{
 "cells": [
  {
   "cell_type": "code",
   "execution_count": 5,
   "metadata": {
    "editable": true
   },
   "outputs": [],
   "source": [
    "import cassandra\n",
    "from cassandra.cluster import Cluster\n",
    "\n",
    "try:\n",
    "    cluster = Cluster(['127.0.0.1'])\n",
    "\n",
    "# To establish connection and begin executing queries, need a session\n",
    "    session = cluster.connect()\n",
    "    session.set_keyspace('udacity')\n",
    "except Exception as e:\n",
    "    print(e)"
   ]
  },
  {
   "cell_type": "markdown",
   "metadata": {
    "editable": true
   },
   "source": [
    " Query 1:  Give me the artist, song title and song's length in the music app history that was heard during \\\n",
    " sessionId = 338, and itemInSession = 4\n",
    " \n",
    " The table for this query uses the session_id as the partitioning key, to allocate same session_id to thesame node and the item_insession is use for sorting the record in each node. With this, reading out the artist, song_title, and song_length heard during a session only requires identifying the node the value \"338\" is partition and looking up the sorted column (item_insession) for the corresponding value \"4\". "
   ]
  },
  {
   "cell_type": "code",
   "execution_count": 6,
   "metadata": {
    "editable": true
   },
   "outputs": [
    {
     "name": "stdout",
     "output_type": "stream",
     "text": [
      "Faithless | Music Matters (Mark Knight Dub) | 495.3073\n"
     ]
    }
   ],
   "source": [
    "try:\n",
    "    select_query_1 =\"SELECT artist,song_title,song_length FROM artist_library \\\n",
    "    WHERE session_id= 338 AND item_insession= 4\" \n",
    " \n",
    "    results = session.execute(select_query_1)\n",
    "    for row in results:\n",
    "        print(row.artist,'|',row.song_title,'|',row.song_length)\n",
    "except Exception as e:\n",
    "    print(e)"
   ]
  },
  {
   "cell_type": "markdown",
   "metadata": {
    "editable": true
   },
   "source": [
    "Query 2: Give me only the following: name of artist, song (sorted by itemInSession) and user (first and last name) for userid = 10, sessionid = 182\n",
    "\n",
    "The table created for this query, uses the user_id and session_id as the composite partition key to partition the records. A better and more balance distribution is obtain with this composite key, than using a single column like the user_id, since some users visits the app more frequent than others. Adding the session_id to the partition key will force thesame user_id with same session_id to be on thesame node thereby reducing the initial skewness (using only the user_id). Obtaining the query result requires hashing the partition key values \"10\" and \"182\" and identifying the node it is partition. The item_insession column is also used to sort the records in each node, making it efficient for selection. "
   ]
  },
  {
   "cell_type": "code",
   "execution_count": 7,
   "metadata": {
    "editable": true
   },
   "outputs": [
    {
     "name": "stdout",
     "output_type": "stream",
     "text": [
      "Down To The Bone | Keep On Keepin' On | Sylvie | Cruz\n",
      "Three Drives | Greece 2000 | Sylvie | Cruz\n",
      "Sebastien Tellier | Kilometer | Sylvie | Cruz\n",
      "Lonnie Gordon | Catch You Baby (Steve Pitron & Max Sanna Radio Edit) | Sylvie | Cruz\n"
     ]
    }
   ],
   "source": [
    "try:\n",
    "    select_query_2 =\"SELECT artist,song_title,user_first_name,user_last_name FROM user_library \\\n",
    "    WHERE user_id= 10 AND session_id= 182\" \n",
    " \n",
    "    results = session.execute(select_query_2)\n",
    "    for row in results:\n",
    "        print(row.artist,'|',row.song_title,'|',row.user_first_name,'|',row.user_last_name)\n",
    "except Exception as e:\n",
    "    print(e)"
   ]
  },
  {
   "cell_type": "markdown",
   "metadata": {
    "editable": true
   },
   "source": [
    " Query 3: Give me every user name (first and last) in my music app history who listened to the song \n",
    " 'All Hands Against His Own'\n",
    " \n",
    " The table created for this query uses the song_title and user_id as the primary key, which is assumed to be unique. This will not be unique if a user can repeat a song, another suggestion will be to add the session_id to the primary key, meaning a user can't repeat thesame song in thesame session. For a case where a user can't repeat thesame song, the partitioning key being the song_title is used to partition the records, and obtaining the result of users who listened to a particular song will only invole records from a single node."
   ]
  },
  {
   "cell_type": "code",
   "execution_count": 8,
   "metadata": {
    "editable": true
   },
   "outputs": [
    {
     "name": "stdout",
     "output_type": "stream",
     "text": [
      "Jacqueline | Lynch\n",
      "Tegan | Levine\n",
      "Sara | Johnson\n"
     ]
    }
   ],
   "source": [
    "try:\n",
    "    select_query_3 =\"SELECT user_first_name,user_last_name FROM song_library \\\n",
    "    WHERE song_title = 'All Hands Against His Own' \" \n",
    " \n",
    "    results = session.execute(select_query_3)\n",
    "    for row in results:\n",
    "        print(row.user_first_name,'|',row.user_last_name)\n",
    "except Exception as e:\n",
    "    print(e)"
   ]
  },
  {
   "cell_type": "code",
   "execution_count": 9,
   "metadata": {
    "editable": true
   },
   "outputs": [],
   "source": [
    "session.shutdown()\n",
    "cluster.shutdown()"
   ]
  },
  {
   "cell_type": "code",
   "execution_count": null,
   "metadata": {
    "editable": true
   },
   "outputs": [],
   "source": []
  }
 ],
 "metadata": {
  "kernelspec": {
   "display_name": "Python 3",
   "language": "python",
   "name": "python3"
  },
  "language_info": {
   "codemirror_mode": {
    "name": "ipython",
    "version": 3
   },
   "file_extension": ".py",
   "mimetype": "text/x-python",
   "name": "python",
   "nbconvert_exporter": "python",
   "pygments_lexer": "ipython3",
   "version": "3.6.3"
  }
 },
 "nbformat": 4,
 "nbformat_minor": 4
}
