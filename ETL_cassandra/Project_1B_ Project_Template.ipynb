{
 "cells": [
  {
   "cell_type": "markdown",
   "metadata": {
    "editable": true
   },
   "source": [
    "# Part I. ETL Pipeline for Pre-Processing the Files"
   ]
  },
  {
   "cell_type": "markdown",
   "metadata": {
    "editable": true
   },
   "source": [
    "## PLEASE RUN THE FOLLOWING CODE FOR PRE-PROCESSING THE FILES"
   ]
  },
  {
   "cell_type": "markdown",
   "metadata": {
    "editable": true
   },
   "source": [
    "#### Import Python packages "
   ]
  },
  {
   "cell_type": "code",
   "execution_count": 1,
   "metadata": {
    "editable": true
   },
   "outputs": [],
   "source": [
    "# Import Python packages \n",
    "import pandas as pd\n",
    "import cassandra\n",
    "import re\n",
    "import os\n",
    "import glob\n",
    "import numpy as np\n",
    "import json\n",
    "import csv"
   ]
  },
  {
   "cell_type": "markdown",
   "metadata": {
    "editable": true
   },
   "source": [
    "#### Creating list of filepaths to process original event csv data files"
   ]
  },
  {
   "cell_type": "code",
   "execution_count": 18,
   "metadata": {
    "editable": true
   },
   "outputs": [
    {
     "data": {
      "text/plain": [
       "['/home/workspace/event_data/2018-11-01-events.csv',\n",
       " '/home/workspace/event_data/2018-11-02-events.csv',\n",
       " '/home/workspace/event_data/2018-11-03-events.csv',\n",
       " '/home/workspace/event_data/2018-11-04-events.csv',\n",
       " '/home/workspace/event_data/2018-11-05-events.csv',\n",
       " '/home/workspace/event_data/2018-11-06-events.csv',\n",
       " '/home/workspace/event_data/2018-11-07-events.csv',\n",
       " '/home/workspace/event_data/2018-11-08-events.csv',\n",
       " '/home/workspace/event_data/2018-11-09-events.csv',\n",
       " '/home/workspace/event_data/2018-11-10-events.csv',\n",
       " '/home/workspace/event_data/2018-11-11-events.csv',\n",
       " '/home/workspace/event_data/2018-11-12-events.csv',\n",
       " '/home/workspace/event_data/2018-11-13-events.csv',\n",
       " '/home/workspace/event_data/2018-11-14-events.csv',\n",
       " '/home/workspace/event_data/2018-11-15-events.csv',\n",
       " '/home/workspace/event_data/2018-11-16-events.csv',\n",
       " '/home/workspace/event_data/2018-11-17-events.csv',\n",
       " '/home/workspace/event_data/2018-11-18-events.csv',\n",
       " '/home/workspace/event_data/2018-11-19-events.csv',\n",
       " '/home/workspace/event_data/2018-11-20-events.csv',\n",
       " '/home/workspace/event_data/2018-11-21-events.csv',\n",
       " '/home/workspace/event_data/2018-11-22-events.csv',\n",
       " '/home/workspace/event_data/2018-11-23-events.csv',\n",
       " '/home/workspace/event_data/2018-11-24-events.csv',\n",
       " '/home/workspace/event_data/2018-11-25-events.csv',\n",
       " '/home/workspace/event_data/2018-11-26-events.csv',\n",
       " '/home/workspace/event_data/2018-11-27-events.csv',\n",
       " '/home/workspace/event_data/2018-11-28-events.csv',\n",
       " '/home/workspace/event_data/2018-11-29-events.csv',\n",
       " '/home/workspace/event_data/2018-11-30-events.csv']"
      ]
     },
     "execution_count": 18,
     "metadata": {},
     "output_type": "execute_result"
    }
   ],
   "source": [
    "# checking the current working directory\n",
    "#print(os.getcwd())\n",
    "all_files=[]\n",
    "# Get the current folder and subfolder event data\n",
    "filepath = os.getcwd() + '/event_data'\n",
    "\n",
    "# Create a for loop to create a list of files and collect each filepath\n",
    "for root, dirs, files in os.walk(filepath):\n",
    "        \n",
    "# join the file path and roots with the subdirectories using glob\n",
    "    file_path_list = glob.glob(os.path.join(root,'*s.csv'))\n",
    "    for file in file_path_list:\n",
    "        all_files.append(os.path.abspath(file))\n",
    "\n",
    "# sort the files         \n",
    "all_files.sort()\n",
    "all_files"
   ]
  },
  {
   "cell_type": "code",
   "execution_count": null,
   "metadata": {
    "editable": true
   },
   "outputs": [],
   "source": []
  },
  {
   "cell_type": "markdown",
   "metadata": {
    "editable": true
   },
   "source": [
    "#### Processing the files to create the data file csv that will be used for Apache Casssandra tables"
   ]
  },
  {
   "cell_type": "code",
   "execution_count": 19,
   "metadata": {
    "editable": true
   },
   "outputs": [],
   "source": [
    "# initiating an empty list of rows that will be generated from each file\n",
    "full_data_rows_list = []\n",
    "\n",
    "# for every filepath in the file path list \n",
    "for f in all_files:\n",
    "\n",
    "# reading csv file \n",
    "    with open(f, 'r', encoding = 'utf8', newline='') as csvfile: \n",
    "        #creating a csv reader object \n",
    "        csvreader = csv.reader(csvfile) \n",
    "        next(csvreader)\n",
    "        \n",
    "         # extracting each data row one by one and append it        \n",
    "        for line in csvreader:\n",
    "            #print(line)\n",
    "            full_data_rows_list.append(line) \n",
    "            \n",
    "\n",
    "\n",
    "# creating a smaller event data csv file called event_datafile_full csv that will be used to insert data into the \\\n",
    "# Apache Cassandra tables\n",
    "\n",
    "csv.register_dialect('myDialect', quoting=csv.QUOTE_ALL, skipinitialspace=True)\n",
    "i=0\n",
    "with open('event_datafile_new.csv', 'w', encoding = 'utf8', newline='') as f:\n",
    "    writer = csv.writer(f, dialect='myDialect')\n",
    "    writer.writerow(['artist','firstName','gender','itemInSession','lastName','length',\\\n",
    "                'level','location','sessionId','song','userId'])\n",
    "    for row in full_data_rows_list:\n",
    "        if (row[0] == ''):\n",
    "            \n",
    "            continue\n",
    "            \n",
    "        writer.writerow((row[0], row[2], row[3], row[4], row[5], row[6], row[7], row[8], row[12], row[13], row[16]))\n",
    "        \n",
    "        "
   ]
  },
  {
   "cell_type": "code",
   "execution_count": 4,
   "metadata": {
    "editable": true
   },
   "outputs": [
    {
     "data": {
      "text/plain": [
       "8056"
      ]
     },
     "execution_count": 4,
     "metadata": {},
     "output_type": "execute_result"
    }
   ],
   "source": [
    "len(full_data_rows_list)"
   ]
  },
  {
   "cell_type": "code",
   "execution_count": 5,
   "metadata": {
    "editable": true
   },
   "outputs": [
    {
     "name": "stdout",
     "output_type": "stream",
     "text": [
      "6821\n"
     ]
    }
   ],
   "source": [
    "# check the number of rows in your csv file\n",
    "with open('event_datafile_new.csv', 'r', encoding = 'utf8') as f:\n",
    "    print(sum(1 for line in f))"
   ]
  },
  {
   "cell_type": "code",
   "execution_count": 20,
   "metadata": {
    "editable": true
   },
   "outputs": [
    {
     "data": {
      "text/html": [
       "<div>\n",
       "<style scoped>\n",
       "    .dataframe tbody tr th:only-of-type {\n",
       "        vertical-align: middle;\n",
       "    }\n",
       "\n",
       "    .dataframe tbody tr th {\n",
       "        vertical-align: top;\n",
       "    }\n",
       "\n",
       "    .dataframe thead th {\n",
       "        text-align: right;\n",
       "    }\n",
       "</style>\n",
       "<table border=\"1\" class=\"dataframe\">\n",
       "  <thead>\n",
       "    <tr style=\"text-align: right;\">\n",
       "      <th></th>\n",
       "      <th>artist</th>\n",
       "      <th>firstName</th>\n",
       "      <th>gender</th>\n",
       "      <th>itemInSession</th>\n",
       "      <th>lastName</th>\n",
       "      <th>length</th>\n",
       "      <th>level</th>\n",
       "      <th>location</th>\n",
       "      <th>sessionId</th>\n",
       "      <th>song</th>\n",
       "      <th>userId</th>\n",
       "    </tr>\n",
       "  </thead>\n",
       "  <tbody>\n",
       "    <tr>\n",
       "      <th>0</th>\n",
       "      <td>Des'ree</td>\n",
       "      <td>Kaylee</td>\n",
       "      <td>F</td>\n",
       "      <td>1</td>\n",
       "      <td>Summers</td>\n",
       "      <td>246.30812</td>\n",
       "      <td>free</td>\n",
       "      <td>Phoenix-Mesa-Scottsdale, AZ</td>\n",
       "      <td>139</td>\n",
       "      <td>You Gotta Be</td>\n",
       "      <td>8</td>\n",
       "    </tr>\n",
       "    <tr>\n",
       "      <th>1</th>\n",
       "      <td>Mr Oizo</td>\n",
       "      <td>Kaylee</td>\n",
       "      <td>F</td>\n",
       "      <td>3</td>\n",
       "      <td>Summers</td>\n",
       "      <td>144.03873</td>\n",
       "      <td>free</td>\n",
       "      <td>Phoenix-Mesa-Scottsdale, AZ</td>\n",
       "      <td>139</td>\n",
       "      <td>Flat 55</td>\n",
       "      <td>8</td>\n",
       "    </tr>\n",
       "    <tr>\n",
       "      <th>2</th>\n",
       "      <td>Tamba Trio</td>\n",
       "      <td>Kaylee</td>\n",
       "      <td>F</td>\n",
       "      <td>4</td>\n",
       "      <td>Summers</td>\n",
       "      <td>177.18812</td>\n",
       "      <td>free</td>\n",
       "      <td>Phoenix-Mesa-Scottsdale, AZ</td>\n",
       "      <td>139</td>\n",
       "      <td>Quem Quiser Encontrar O Amor</td>\n",
       "      <td>8</td>\n",
       "    </tr>\n",
       "    <tr>\n",
       "      <th>3</th>\n",
       "      <td>The Mars Volta</td>\n",
       "      <td>Kaylee</td>\n",
       "      <td>F</td>\n",
       "      <td>5</td>\n",
       "      <td>Summers</td>\n",
       "      <td>380.42077</td>\n",
       "      <td>free</td>\n",
       "      <td>Phoenix-Mesa-Scottsdale, AZ</td>\n",
       "      <td>139</td>\n",
       "      <td>Eriatarka</td>\n",
       "      <td>8</td>\n",
       "    </tr>\n",
       "    <tr>\n",
       "      <th>4</th>\n",
       "      <td>Infected Mushroom</td>\n",
       "      <td>Kaylee</td>\n",
       "      <td>F</td>\n",
       "      <td>6</td>\n",
       "      <td>Summers</td>\n",
       "      <td>440.26730</td>\n",
       "      <td>free</td>\n",
       "      <td>Phoenix-Mesa-Scottsdale, AZ</td>\n",
       "      <td>139</td>\n",
       "      <td>Becoming Insane</td>\n",
       "      <td>8</td>\n",
       "    </tr>\n",
       "  </tbody>\n",
       "</table>\n",
       "</div>"
      ],
      "text/plain": [
       "              artist firstName gender  itemInSession lastName     length  \\\n",
       "0            Des'ree    Kaylee      F              1  Summers  246.30812   \n",
       "1            Mr Oizo    Kaylee      F              3  Summers  144.03873   \n",
       "2         Tamba Trio    Kaylee      F              4  Summers  177.18812   \n",
       "3     The Mars Volta    Kaylee      F              5  Summers  380.42077   \n",
       "4  Infected Mushroom    Kaylee      F              6  Summers  440.26730   \n",
       "\n",
       "  level                     location  sessionId                          song  \\\n",
       "0  free  Phoenix-Mesa-Scottsdale, AZ        139                  You Gotta Be   \n",
       "1  free  Phoenix-Mesa-Scottsdale, AZ        139                       Flat 55   \n",
       "2  free  Phoenix-Mesa-Scottsdale, AZ        139  Quem Quiser Encontrar O Amor   \n",
       "3  free  Phoenix-Mesa-Scottsdale, AZ        139                     Eriatarka   \n",
       "4  free  Phoenix-Mesa-Scottsdale, AZ        139               Becoming Insane   \n",
       "\n",
       "   userId  \n",
       "0       8  \n",
       "1       8  \n",
       "2       8  \n",
       "3       8  \n",
       "4       8  "
      ]
     },
     "execution_count": 20,
     "metadata": {},
     "output_type": "execute_result"
    }
   ],
   "source": [
    "data= pd.read_csv('event_datafile_new.csv')\n",
    "#data[data.userId == 88]\n",
    "data.head()"
   ]
  },
  {
   "cell_type": "markdown",
   "metadata": {
    "editable": true
   },
   "source": [
    "# Part II. Complete the Apache Cassandra coding portion of your project. \n",
    "\n",
    "## Now you are ready to work with the CSV file titled <font color=red>event_datafile_new.csv</font>, located within the Workspace directory.  The event_datafile_new.csv contains the following columns: \n",
    "- artist \n",
    "- firstName of user\n",
    "- gender of user\n",
    "- item number in session\n",
    "- last name of user\n",
    "- length of the song\n",
    "- level (paid or free song)\n",
    "- location of the user\n",
    "- sessionId\n",
    "- song title\n",
    "- userId\n",
    "\n",
    "The image below is a screenshot of what the denormalized data should appear like in the <font color=red>**event_datafile_new.csv**</font> after the code above is run:<br>\n",
    "\n",
    "<img src=\"images/image_event_datafile_new.jpg\">"
   ]
  },
  {
   "cell_type": "markdown",
   "metadata": {
    "editable": true
   },
   "source": [
    "## Begin writing your Apache Cassandra code in the cells below"
   ]
  },
  {
   "cell_type": "markdown",
   "metadata": {
    "editable": true
   },
   "source": [
    "#### Creating a Cluster"
   ]
  },
  {
   "cell_type": "code",
   "execution_count": 2,
   "metadata": {
    "editable": true
   },
   "outputs": [],
   "source": [
    "# This should make a connection to a Cassandra instance your local machine \n",
    "# (127.0.0.1)\n",
    "\n",
    "from cassandra.cluster import Cluster\n",
    "\n",
    "try:\n",
    "    cluster = Cluster(['127.0.0.1'])\n",
    "\n",
    "# To establish connection and begin executing queries, need a session\n",
    "    session = cluster.connect()\n",
    "except Exception as e:\n",
    "    print(e)"
   ]
  },
  {
   "cell_type": "markdown",
   "metadata": {
    "editable": true
   },
   "source": [
    "#### Create Keyspace"
   ]
  },
  {
   "cell_type": "code",
   "execution_count": 3,
   "metadata": {
    "editable": true
   },
   "outputs": [],
   "source": [
    "#Create a Keyspace \n",
    "\n",
    "try:\n",
    "    session.execute(\"\"\"CREATE KEYSPACE IF NOT EXISTS udacity\n",
    "    WITH REPLICATION = {'class':'SimpleStrategy','replication_factor':1}\"\"\")\n",
    "    \n",
    "except Exception as e:\n",
    "    print(e)"
   ]
  },
  {
   "cell_type": "markdown",
   "metadata": {
    "editable": true
   },
   "source": [
    "#### Set Keyspace"
   ]
  },
  {
   "cell_type": "code",
   "execution_count": 4,
   "metadata": {
    "editable": true
   },
   "outputs": [],
   "source": [
    "#Set KEYSPACE to the keyspace specified above\n",
    "try:\n",
    "    session.set_keyspace('udacity')\n",
    "except Exception as e:\n",
    "    print(e)"
   ]
  },
  {
   "cell_type": "markdown",
   "metadata": {
    "editable": true
   },
   "source": [
    "### Now we need to create tables to run the following queries. Remember, with Apache Cassandra you model the database tables on the queries you want to run."
   ]
  },
  {
   "cell_type": "markdown",
   "metadata": {
    "editable": true
   },
   "source": [
    "## Create queries to ask the following three questions of the data\n",
    "\n",
    "### 1. Give me the artist, song title and song's length in the music app history that was heard during  sessionId = 338, and itemInSession  = 4\n",
    "\n",
    "\n",
    "### 2. Give me only the following: name of artist, song (sorted by itemInSession) and user (first and last name) for userid = 10, sessionid = 182\n",
    "    \n",
    "\n",
    "### 3. Give me every user name (first and last) in my music app history who listened to the song 'All Hands Against His Own'\n",
    "\n",
    "\n"
   ]
  },
  {
   "cell_type": "code",
   "execution_count": 5,
   "metadata": {
    "editable": true
   },
   "outputs": [],
   "source": [
    "##Query 1:  Give me the artist, song title and song's length in the music app history that was heard during \\\n",
    "## sessionId = 338, and itemInSession = 4\n",
    "\n",
    "try:\n",
    "    drop_query_1 =\"DROP TABLE IF EXISTS artist_and_song_by_sessionid\"\n",
    "    session.execute(drop_query_1)\n",
    "    \n",
    "except Exception as e:\n",
    "    print(e)\n",
    "    \n",
    "try:\n",
    "    create_query_1 =\"CREATE TABLE IF NOT EXISTS artist_and_song_by_sessionid (session_id int,item_insession int,\\\n",
    "                artist text,song_title text,song_length double, PRIMARY KEY (session_id,item_insession)) \" \n",
    " \n",
    "    session.execute(create_query_1)\n",
    "except Exception as e:\n",
    "    print(e)\n",
    "\n",
    "                    "
   ]
  },
  {
   "cell_type": "code",
   "execution_count": 6,
   "metadata": {
    "editable": true
   },
   "outputs": [],
   "source": [
    "# inserting data into the table from the event_datafile file\n",
    "try:\n",
    "    file = 'event_datafile_new.csv'\n",
    "\n",
    "    with open(file, encoding = 'utf8') as f:\n",
    "        csvreader = csv.reader(f)\n",
    "        next(csvreader) # skip header\n",
    "        for line in csvreader:\n",
    "\n",
    "            query = \"INSERT INTO artist_and_song_by_sessionid \\\n",
    "                    (session_id,item_insession,artist,song_title,song_length)\"\n",
    "            query = query + \"VALUES (%s,%s,%s,%s,%s)\"\n",
    "        \n",
    "            session.execute(query, (int(line[8]),int(line[3]),line[0],line[9],float(line[5])))\n",
    "        \n",
    "except Exception as e:\n",
    "    print(e)"
   ]
  },
  {
   "cell_type": "markdown",
   "metadata": {
    "editable": true
   },
   "source": [
    "The table for this query uses the session_id as the partitioning key to allocate same session_id to thesame node and the item_insession is use for sorting the record in each node. With this, reading out the artist, song_title listened to, and song_length during a session only requires identifying the node the value \"338\" is partition and looking up the sorted column (item_insession) for the corresponding value \"4\". "
   ]
  },
  {
   "cell_type": "markdown",
   "metadata": {
    "editable": true
   },
   "source": [
    "#### Do a SELECT to verify that the data have been inserted into each table"
   ]
  },
  {
   "cell_type": "code",
   "execution_count": 7,
   "metadata": {
    "editable": true,
    "scrolled": true
   },
   "outputs": [
    {
     "name": "stdout",
     "output_type": "stream",
     "text": [
      "Faithless | Music Matters (Mark Knight Dub) | 495.3073\n"
     ]
    }
   ],
   "source": [
    "##verifying the data was entered into the table\n",
    "try:\n",
    "    select_query_1 =\"SELECT artist,song_title,song_length FROM artist_and_song_by_sessionid \\\n",
    "    WHERE session_id= 338 AND item_insession= 4\" \n",
    " \n",
    "    results = session.execute(select_query_1)\n",
    "    for row in results:\n",
    "        print(row.artist,'|',row.song_title,'|',row.song_length)\n",
    "except Exception as e:\n",
    "    print(e)"
   ]
  },
  {
   "cell_type": "markdown",
   "metadata": {
    "editable": true
   },
   "source": [
    "### COPY AND REPEAT THE ABOVE THREE CELLS FOR EACH OF THE THREE QUESTIONS"
   ]
  },
  {
   "cell_type": "code",
   "execution_count": 8,
   "metadata": {
    "editable": true
   },
   "outputs": [],
   "source": [
    "##Query 2: Give me only the following: name of artist, song (sorted by itemInSession) and user (first and last name)\\\n",
    "## for userid = 10, sessionid = 182\n",
    "\n",
    "\n",
    "try:\n",
    "    drop_query_2 =\"DROP TABLE IF EXISTS artist_info_by_userid\"\n",
    "    session.execute(drop_query_2)\n",
    "    \n",
    "except Exception as e:\n",
    "    print(e)\n",
    "    \n",
    "try:\n",
    "    create_query_2 =\"CREATE TABLE IF NOT EXISTS artist_info_by_userid (user_id int,session_id int,item_insession int,\\\n",
    "    artist text,song_title text,user_first_name text,user_last_name text,\\\n",
    "    PRIMARY KEY ((user_id,session_id),item_insession)) \" \n",
    " \n",
    "    session.execute(create_query_2)\n",
    "except Exception as e:\n",
    "    print(e)\n",
    "\n",
    "\n",
    "                    "
   ]
  },
  {
   "cell_type": "code",
   "execution_count": 9,
   "metadata": {
    "editable": true
   },
   "outputs": [],
   "source": [
    "# inserting data into the table from the event_datafile file\n",
    "\n",
    "try:\n",
    "    file = 'event_datafile_new.csv'\n",
    "\n",
    "    with open(file, encoding = 'utf8') as f:\n",
    "        csvreader = csv.reader(f)\n",
    "        next(csvreader) # skip header\n",
    "        for line in csvreader:\n",
    "    \n",
    "            query = \"INSERT INTO artist_info_by_userid (user_id,session_id,item_insession,\\\n",
    "                        artist,song_title,user_first_name,user_last_name) \"\n",
    "            query = query + \"VALUES (%s,%s,%s,%s,%s,%s,%s)\"\n",
    "            \n",
    "            \n",
    "            session.execute(query, (int(line[10]),int(line[8]),int(line[3]),line[0],line[9],line[1],line[4]))\n",
    "        \n",
    "except Exception as e:\n",
    "    print(e)"
   ]
  },
  {
   "cell_type": "markdown",
   "metadata": {
    "editable": true
   },
   "source": [
    "The table created for this query, uses the user_id and session_id as the composite partition key to partition the records. A better and more balance distribution is obtain with this composite key, than using a single column like the user_id, since some users visits the app more frequent than others. Adding the session_id to the partition key will force thesame user_id with same session_id to be on thesame node thereby reducing the initial skewness (using only the user_id). Obtaining the query result requires hashing the partition key values \"10\" and \"182\" and identifying the node it is partition. The item_insession column is also used to sort the records in each node, making it efficient for selection. "
   ]
  },
  {
   "cell_type": "code",
   "execution_count": 10,
   "metadata": {
    "editable": true
   },
   "outputs": [
    {
     "name": "stdout",
     "output_type": "stream",
     "text": [
      "Down To The Bone | Keep On Keepin' On | Sylvie | Cruz\n",
      "Three Drives | Greece 2000 | Sylvie | Cruz\n",
      "Sebastien Tellier | Kilometer | Sylvie | Cruz\n",
      "Lonnie Gordon | Catch You Baby (Steve Pitron & Max Sanna Radio Edit) | Sylvie | Cruz\n"
     ]
    }
   ],
   "source": [
    "##verifying the data was entered into the table\n",
    "\n",
    "try:\n",
    "    select_query_2 = \"SELECT artist,song_title,user_first_name,user_last_name FROM artist_info_by_userid \\\n",
    "    WHERE user_id= 10 AND session_id= 182\" \n",
    " \n",
    "    results = session.execute(select_query_2)\n",
    "    for row in results:\n",
    "        print(row.artist,'|',row.song_title,'|',row.user_first_name,'|',row.user_last_name)\n",
    "except Exception as e:\n",
    "    print(e)"
   ]
  },
  {
   "cell_type": "code",
   "execution_count": 11,
   "metadata": {
    "editable": true
   },
   "outputs": [],
   "source": [
    "##Query 3: Give me every user name (first and last) in my music app history who listened to the song 'All Hands Against His Own'\n",
    "\n",
    "\n",
    "\n",
    "try:\n",
    "    \n",
    "    drop_query_3 =\"DROP TABLE IF EXISTS user_by_song_heard\"\n",
    "    session.execute(drop_query_3)\n",
    "    \n",
    "except Exception as e:\n",
    "    print(e)\n",
    "    \n",
    "try:\n",
    "    create_query_3 =\"CREATE TABLE IF NOT EXISTS user_by_song_heard (song_title text,user_id int,\\\n",
    "                        user_first_name text,user_last_name text,PRIMARY KEY (song_title,user_id))\" \n",
    " \n",
    "    session.execute(create_query_3)\n",
    "except Exception as e:\n",
    "    print(e)\n",
    "\n",
    "                    "
   ]
  },
  {
   "cell_type": "code",
   "execution_count": 12,
   "metadata": {
    "editable": true
   },
   "outputs": [],
   "source": [
    "# inserting data into the table from the event_datafile file\n",
    "\n",
    "\n",
    "try:\n",
    "    file = 'event_datafile_new.csv'\n",
    "\n",
    "    with open(file, encoding = 'utf8') as f:\n",
    "        csvreader = csv.reader(f)\n",
    "        next(csvreader) # skip header\n",
    "        for line in csvreader:\n",
    "    \n",
    "            query = \"INSERT INTO user_by_song_heard (song_title,user_id,user_first_name,user_last_name)\"\n",
    "            query = query + \"VALUES (%s,%s,%s,%s)\"\n",
    "            \n",
    "            \n",
    "            session.execute(query, (line[9],int(line[10]),line[1],line[4]))\n",
    "        \n",
    "except Exception as e:\n",
    "    print(e)"
   ]
  },
  {
   "cell_type": "markdown",
   "metadata": {
    "editable": true
   },
   "source": [
    "The table created for this query uses the song_title and user_id as the primary key, which is assumed to be unique. This will not be unique if a user can repeat a song, another suggestion will be to add the session_id to the primary key, meaning a user can't repeat thesame song in thesame session. For a case where a user can't repeat thesame song, the partitioning key being the song_title is used to partition the records, and obtaining the result of users who listened to a particular song will only invole records from a single node."
   ]
  },
  {
   "cell_type": "code",
   "execution_count": 13,
   "metadata": {
    "editable": true
   },
   "outputs": [
    {
     "name": "stdout",
     "output_type": "stream",
     "text": [
      "Jacqueline | Lynch\n",
      "Tegan | Levine\n",
      "Sara | Johnson\n"
     ]
    }
   ],
   "source": [
    "#verifying the data was entered into the table\n",
    "\n",
    "try:\n",
    "    select_query_3 =\"SELECT user_first_name,user_last_name FROM user_by_song_heard \\\n",
    "    WHERE song_title = 'All Hands Against His Own' \" \n",
    " \n",
    "    results = session.execute(select_query_3)\n",
    "    for row in results:\n",
    "        print(row.user_first_name,'|',row.user_last_name)\n",
    "except Exception as e:\n",
    "    print(e)"
   ]
  },
  {
   "cell_type": "markdown",
   "metadata": {
    "editable": true
   },
   "source": [
    "### Drop the tables before closing out the sessions"
   ]
  },
  {
   "cell_type": "code",
   "execution_count": 4,
   "metadata": {
    "editable": true
   },
   "outputs": [],
   "source": []
  },
  {
   "cell_type": "code",
   "execution_count": 14,
   "metadata": {
    "editable": true
   },
   "outputs": [],
   "source": [
    "try:\n",
    "    drop_query_1 =\"DROP TABLE IF EXISTS artist_and_song_by_sessionid\"\n",
    "    session.execute(drop_query_1)\n",
    "    \n",
    "    drop_query_2 =\"DROP TABLE IF EXISTS artist_info_by_userid\"\n",
    "    session.execute(drop_query_2)\n",
    "    \n",
    "    drop_query_3 =\"DROP TABLE IF EXISTS user_by_song_heard\"\n",
    "    session.execute(drop_query_3)\n",
    "    \n",
    "except Exception as e:\n",
    "    print(e)"
   ]
  },
  {
   "cell_type": "markdown",
   "metadata": {
    "editable": true
   },
   "source": [
    "### Close the session and cluster connection¶"
   ]
  },
  {
   "cell_type": "code",
   "execution_count": 15,
   "metadata": {
    "editable": true
   },
   "outputs": [],
   "source": [
    "session.shutdown()\n",
    "cluster.shutdown()"
   ]
  },
  {
   "cell_type": "code",
   "execution_count": null,
   "metadata": {
    "editable": true
   },
   "outputs": [],
   "source": []
  },
  {
   "cell_type": "code",
   "execution_count": null,
   "metadata": {
    "editable": true
   },
   "outputs": [],
   "source": []
  }
 ],
 "metadata": {
  "kernelspec": {
   "display_name": "Python 3",
   "language": "python",
   "name": "python3"
  },
  "language_info": {
   "codemirror_mode": {
    "name": "ipython",
    "version": 3
   },
   "file_extension": ".py",
   "mimetype": "text/x-python",
   "name": "python",
   "nbconvert_exporter": "python",
   "pygments_lexer": "ipython3",
   "version": "3.6.3"
  }
 },
 "nbformat": 4,
 "nbformat_minor": 4
}
